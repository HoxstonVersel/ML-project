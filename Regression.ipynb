{
 "cells": [
  {
   "cell_type": "markdown",
   "metadata": {},
   "source": [
    "# Линейная регрессия"
   ]
  },
  {
   "cell_type": "raw",
   "metadata": {},
   "source": [
    "Линейная регрессия применяется для анализа данных и в машинном обучении.\n",
    "Задача предсказать цены на квартиры по соотношению жилой площади."
   ]
  },
  {
   "cell_type": "code",
   "execution_count": 1,
   "metadata": {},
   "outputs": [],
   "source": [
    "%matplotlib inline\n",
    "import numpy as np\n",
    "import pandas as pd\n",
    "import matplotlib.pyplot as plt\n",
    "import seaborn as sns\n",
    "\n",
    "import warnings\n",
    "warnings.filterwarnings('ignore')"
   ]
  },
  {
   "cell_type": "code",
   "execution_count": 2,
   "metadata": {},
   "outputs": [
    {
     "data": {
      "text/html": [
       "<div>\n",
       "<style scoped>\n",
       "    .dataframe tbody tr th:only-of-type {\n",
       "        vertical-align: middle;\n",
       "    }\n",
       "\n",
       "    .dataframe tbody tr th {\n",
       "        vertical-align: top;\n",
       "    }\n",
       "\n",
       "    .dataframe thead th {\n",
       "        text-align: right;\n",
       "    }\n",
       "</style>\n",
       "<table border=\"1\" class=\"dataframe\">\n",
       "  <thead>\n",
       "    <tr style=\"text-align: right;\">\n",
       "      <th></th>\n",
       "      <th>title</th>\n",
       "      <th>price</th>\n",
       "      <th>href</th>\n",
       "      <th>address</th>\n",
       "      <th>year</th>\n",
       "      <th>content</th>\n",
       "      <th>area</th>\n",
       "    </tr>\n",
       "  </thead>\n",
       "  <tbody>\n",
       "    <tr>\n",
       "      <th>0</th>\n",
       "      <td>title</td>\n",
       "      <td>price</td>\n",
       "      <td>href</td>\n",
       "      <td>address</td>\n",
       "      <td>year</td>\n",
       "      <td>content</td>\n",
       "      <td>area</td>\n",
       "    </tr>\n",
       "    <tr>\n",
       "      <th>1</th>\n",
       "      <td>4-комнатная квартира, Сатпаева - Бухар Жырау</td>\n",
       "      <td>85000000</td>\n",
       "      <td>/obyavleniya/prodazha-kvartiry-121m-v-almaty-3...</td>\n",
       "      <td>['Сатпаева\\xa0- Бухар Жырау']</td>\n",
       "      <td>2006</td>\n",
       "      <td>монолитный. Продается 3-комнатная квартира в Ж...</td>\n",
       "      <td>121</td>\n",
       "    </tr>\n",
       "    <tr>\n",
       "      <th>2</th>\n",
       "      <td>2-комнатная квартира, Гагарина, 233</td>\n",
       "      <td>43000000</td>\n",
       "      <td>/obyavleniya/prodazha-kvartiry-53.41m-v-almaty...</td>\n",
       "      <td>['Гагарина', '233']</td>\n",
       "      <td>2021</td>\n",
       "      <td>ЖК Terra, монолитный. Продается 2-комнатная кв...</td>\n",
       "      <td>53.41</td>\n",
       "    </tr>\n",
       "    <tr>\n",
       "      <th>3</th>\n",
       "      <td>2-комнатная квартира, Самал-2 мкр-н, 46 - Менд...</td>\n",
       "      <td>35000000</td>\n",
       "      <td>/obyavleniya/prodazha-kvartiry-60.5m-v-almaty-...</td>\n",
       "      <td>['Самал-2 мкр-н', '46\\xa0- Мендикулова']</td>\n",
       "      <td>1989</td>\n",
       "      <td>кирпичный. Не угловая.  Уважаемые товарищи, об...</td>\n",
       "      <td>60.5</td>\n",
       "    </tr>\n",
       "    <tr>\n",
       "      <th>4</th>\n",
       "      <td>2-комнатная квартира, Ладушкина - Кашгарская</td>\n",
       "      <td>43950000</td>\n",
       "      <td>/obyavleniya/prodazha-kvartiry-68m-v-almaty-30...</td>\n",
       "      <td>['Ладушкина\\xa0- Кашгарская']</td>\n",
       "      <td>2008</td>\n",
       "      <td>ЖК Зеленая Долина (Коттеджный городок), моноли...</td>\n",
       "      <td>68</td>\n",
       "    </tr>\n",
       "    <tr>\n",
       "      <th>...</th>\n",
       "      <td>...</td>\n",
       "      <td>...</td>\n",
       "      <td>...</td>\n",
       "      <td>...</td>\n",
       "      <td>...</td>\n",
       "      <td>...</td>\n",
       "      <td>...</td>\n",
       "    </tr>\n",
       "    <tr>\n",
       "      <th>1655</th>\n",
       "      <td>2-комнатная квартира, Шаляпина, 11</td>\n",
       "      <td>13000000</td>\n",
       "      <td>/obyavleniya/prodazha-kvartiry-44m-v-almaty-13...</td>\n",
       "      <td>['Шаляпина', '11']</td>\n",
       "      <td>1969</td>\n",
       "      <td>панельный. Санузел совмещенный, балкон застекл...</td>\n",
       "      <td>44</td>\n",
       "    </tr>\n",
       "    <tr>\n",
       "      <th>1656</th>\n",
       "      <td>1-комнатная квартира, Абая, 10в</td>\n",
       "      <td>9000000</td>\n",
       "      <td>/obyavleniya/prodazha-kvartiry-32m-v-almaty-13...</td>\n",
       "      <td>['Абая', '10в']</td>\n",
       "      <td>1960</td>\n",
       "      <td>панельный. Санузел совмещенный, косметический ...</td>\n",
       "      <td>32</td>\n",
       "    </tr>\n",
       "    <tr>\n",
       "      <th>1657</th>\n",
       "      <td>2-комнатная квартира, Жубанова, 18а</td>\n",
       "      <td>12000000</td>\n",
       "      <td>/obyavleniya/prodazha-kvartiry-44m-v-almaty-13...</td>\n",
       "      <td>['Жубанова', '18а']</td>\n",
       "      <td>1969</td>\n",
       "      <td>панельный. Балкон застекленный, двери металлич...</td>\n",
       "      <td>44</td>\n",
       "    </tr>\n",
       "    <tr>\n",
       "      <th>1658</th>\n",
       "      <td>2-комнатная квартира, Берегового, 8 - Койшыманова</td>\n",
       "      <td>13000000</td>\n",
       "      <td>/obyavleniya/prodazha-kvartiry-45m-v-almaty-99...</td>\n",
       "      <td>['Берегового', '8\\xa0- Койшыманова']</td>\n",
       "      <td>1969</td>\n",
       "      <td>панельный. Санузел совмещенный, балкон застекл...</td>\n",
       "      <td>45</td>\n",
       "    </tr>\n",
       "    <tr>\n",
       "      <th>1659</th>\n",
       "      <td>3-комнатная квартира, Берегового, 10 - Койчума...</td>\n",
       "      <td>15000000</td>\n",
       "      <td>/obyavleniya/prodazha-kvartiry-59m-v-almaty-10...</td>\n",
       "      <td>['Берегового', '10\\xa0- Койчуманова']</td>\n",
       "      <td>1969</td>\n",
       "      <td>панельный. Санузел совмещенный, среднее состоя...</td>\n",
       "      <td>59</td>\n",
       "    </tr>\n",
       "  </tbody>\n",
       "</table>\n",
       "<p>1660 rows × 7 columns</p>\n",
       "</div>"
      ],
      "text/plain": [
       "                                                  title     price  \\\n",
       "0                                                 title     price   \n",
       "1          4-комнатная квартира, Сатпаева - Бухар Жырау  85000000   \n",
       "2                   2-комнатная квартира, Гагарина, 233  43000000   \n",
       "3     2-комнатная квартира, Самал-2 мкр-н, 46 - Менд...  35000000   \n",
       "4          2-комнатная квартира, Ладушкина - Кашгарская  43950000   \n",
       "...                                                 ...       ...   \n",
       "1655                 2-комнатная квартира, Шаляпина, 11  13000000   \n",
       "1656                    1-комнатная квартира, Абая, 10в   9000000   \n",
       "1657                2-комнатная квартира, Жубанова, 18а  12000000   \n",
       "1658  2-комнатная квартира, Берегового, 8 - Койшыманова  13000000   \n",
       "1659  3-комнатная квартира, Берегового, 10 - Койчума...  15000000   \n",
       "\n",
       "                                                   href  \\\n",
       "0                                                  href   \n",
       "1     /obyavleniya/prodazha-kvartiry-121m-v-almaty-3...   \n",
       "2     /obyavleniya/prodazha-kvartiry-53.41m-v-almaty...   \n",
       "3     /obyavleniya/prodazha-kvartiry-60.5m-v-almaty-...   \n",
       "4     /obyavleniya/prodazha-kvartiry-68m-v-almaty-30...   \n",
       "...                                                 ...   \n",
       "1655  /obyavleniya/prodazha-kvartiry-44m-v-almaty-13...   \n",
       "1656  /obyavleniya/prodazha-kvartiry-32m-v-almaty-13...   \n",
       "1657  /obyavleniya/prodazha-kvartiry-44m-v-almaty-13...   \n",
       "1658  /obyavleniya/prodazha-kvartiry-45m-v-almaty-99...   \n",
       "1659  /obyavleniya/prodazha-kvartiry-59m-v-almaty-10...   \n",
       "\n",
       "                                       address  year  \\\n",
       "0                                      address  year   \n",
       "1                ['Сатпаева\\xa0- Бухар Жырау']  2006   \n",
       "2                          ['Гагарина', '233']  2021   \n",
       "3     ['Самал-2 мкр-н', '46\\xa0- Мендикулова']  1989   \n",
       "4                ['Ладушкина\\xa0- Кашгарская']  2008   \n",
       "...                                        ...   ...   \n",
       "1655                        ['Шаляпина', '11']  1969   \n",
       "1656                           ['Абая', '10в']  1960   \n",
       "1657                       ['Жубанова', '18а']  1969   \n",
       "1658      ['Берегового', '8\\xa0- Койшыманова']  1969   \n",
       "1659     ['Берегового', '10\\xa0- Койчуманова']  1969   \n",
       "\n",
       "                                                content   area  \n",
       "0                                               content   area  \n",
       "1     монолитный. Продается 3-комнатная квартира в Ж...    121  \n",
       "2     ЖК Terra, монолитный. Продается 2-комнатная кв...  53.41  \n",
       "3     кирпичный. Не угловая.  Уважаемые товарищи, об...   60.5  \n",
       "4     ЖК Зеленая Долина (Коттеджный городок), моноли...     68  \n",
       "...                                                 ...    ...  \n",
       "1655  панельный. Санузел совмещенный, балкон застекл...     44  \n",
       "1656  панельный. Санузел совмещенный, косметический ...     32  \n",
       "1657  панельный. Балкон застекленный, двери металлич...     44  \n",
       "1658  панельный. Санузел совмещенный, балкон застекл...     45  \n",
       "1659  панельный. Санузел совмещенный, среднее состоя...     59  \n",
       "\n",
       "[1660 rows x 7 columns]"
      ]
     },
     "execution_count": 2,
     "metadata": {},
     "output_type": "execute_result"
    }
   ],
   "source": [
    "df=pd.read_csv('KNKZ#4.csv')\n",
    "df"
   ]
  },
  {
   "cell_type": "code",
   "execution_count": 4,
   "metadata": {},
   "outputs": [],
   "source": [
    "df = df[df['price'] != 'price']"
   ]
  },
  {
   "cell_type": "code",
   "execution_count": 5,
   "metadata": {},
   "outputs": [],
   "source": [
    "df['price'] = df['price'].astype(\"int\")"
   ]
  },
  {
   "cell_type": "code",
   "execution_count": 6,
   "metadata": {},
   "outputs": [
    {
     "data": {
      "text/plain": [
       "1       85000000\n",
       "2       43000000\n",
       "3       35000000\n",
       "4       43950000\n",
       "5       27000000\n",
       "          ...   \n",
       "1655    13000000\n",
       "1656     9000000\n",
       "1657    12000000\n",
       "1658    13000000\n",
       "1659    15000000\n",
       "Name: price, Length: 1594, dtype: int32"
      ]
     },
     "execution_count": 6,
     "metadata": {},
     "output_type": "execute_result"
    }
   ],
   "source": [
    "df['price']"
   ]
  },
  {
   "cell_type": "code",
   "execution_count": 7,
   "metadata": {},
   "outputs": [],
   "source": [
    "df['room'] = df['title']"
   ]
  },
  {
   "cell_type": "code",
   "execution_count": 8,
   "metadata": {},
   "outputs": [],
   "source": [
    "df['room'] = df['room'].str.split('-', 1, expand=True)"
   ]
  },
  {
   "cell_type": "code",
   "execution_count": 9,
   "metadata": {},
   "outputs": [],
   "source": [
    "df['room'] = df['room'].astype(\"int\")"
   ]
  },
  {
   "cell_type": "code",
   "execution_count": 10,
   "metadata": {},
   "outputs": [
    {
     "data": {
      "text/plain": [
       "1       4\n",
       "2       2\n",
       "3       2\n",
       "4       2\n",
       "5       2\n",
       "       ..\n",
       "1655    2\n",
       "1656    1\n",
       "1657    2\n",
       "1658    2\n",
       "1659    3\n",
       "Name: room, Length: 1594, dtype: int32"
      ]
     },
     "execution_count": 10,
     "metadata": {},
     "output_type": "execute_result"
    }
   ],
   "source": [
    "df['room']"
   ]
  },
  {
   "cell_type": "code",
   "execution_count": 11,
   "metadata": {},
   "outputs": [],
   "source": [
    "df['area'] = df['area'].astype(\"float\")"
   ]
  },
  {
   "cell_type": "code",
   "execution_count": 12,
   "metadata": {},
   "outputs": [],
   "source": [
    "df['year'] = df['year'].astype(\"int\")"
   ]
  },
  {
   "cell_type": "raw",
   "metadata": {},
   "source": [
    "Чтобы понять тип данных, с которыми мы имеем дело, мы строим гистограмму для каждой числовой переменной."
   ]
  },
  {
   "cell_type": "code",
   "execution_count": 13,
   "metadata": {},
   "outputs": [
    {
     "data": {
      "image/png": "[encoded data removed]",
      "text/plain": [
       "<Figure size 1440x1080 with 4 Axes>"
      ]
     },
     "metadata": {
      "needs_background": "light"
     },
     "output_type": "display_data"
    }
   ],
   "source": [
    "df.hist(bins=50, figsize=(20,15))\n",
    "plt.savefig(\"attribute_histogram_plots\")\n",
    "plt.show()"
   ]
  },
  {
   "cell_type": "code",
   "execution_count": 14,
   "metadata": {},
   "outputs": [
    {
     "data": {
      "text/html": [
       "<div>\n",
       "<style scoped>\n",
       "    .dataframe tbody tr th:only-of-type {\n",
       "        vertical-align: middle;\n",
       "    }\n",
       "\n",
       "    .dataframe tbody tr th {\n",
       "        vertical-align: top;\n",
       "    }\n",
       "\n",
       "    .dataframe thead th {\n",
       "        text-align: right;\n",
       "    }\n",
       "</style>\n",
       "<table border=\"1\" class=\"dataframe\">\n",
       "  <thead>\n",
       "    <tr style=\"text-align: right;\">\n",
       "      <th></th>\n",
       "      <th>title</th>\n",
       "      <th>price</th>\n",
       "      <th>href</th>\n",
       "      <th>address</th>\n",
       "      <th>year</th>\n",
       "      <th>content</th>\n",
       "      <th>area</th>\n",
       "      <th>room</th>\n",
       "    </tr>\n",
       "  </thead>\n",
       "  <tbody>\n",
       "    <tr>\n",
       "      <th>1</th>\n",
       "      <td>4-комнатная квартира, Сатпаева - Бухар Жырау</td>\n",
       "      <td>85000000</td>\n",
       "      <td>/obyavleniya/prodazha-kvartiry-121m-v-almaty-3...</td>\n",
       "      <td>['Сатпаева\\xa0- Бухар Жырау']</td>\n",
       "      <td>2006</td>\n",
       "      <td>монолитный. Продается 3-комнатная квартира в Ж...</td>\n",
       "      <td>121.00</td>\n",
       "      <td>4</td>\n",
       "    </tr>\n",
       "    <tr>\n",
       "      <th>2</th>\n",
       "      <td>2-комнатная квартира, Гагарина, 233</td>\n",
       "      <td>43000000</td>\n",
       "      <td>/obyavleniya/prodazha-kvartiry-53.41m-v-almaty...</td>\n",
       "      <td>['Гагарина', '233']</td>\n",
       "      <td>2021</td>\n",
       "      <td>ЖК Terra, монолитный. Продается 2-комнатная кв...</td>\n",
       "      <td>53.41</td>\n",
       "      <td>2</td>\n",
       "    </tr>\n",
       "    <tr>\n",
       "      <th>3</th>\n",
       "      <td>2-комнатная квартира, Самал-2 мкр-н, 46 - Менд...</td>\n",
       "      <td>35000000</td>\n",
       "      <td>/obyavleniya/prodazha-kvartiry-60.5m-v-almaty-...</td>\n",
       "      <td>['Самал-2 мкр-н', '46\\xa0- Мендикулова']</td>\n",
       "      <td>1989</td>\n",
       "      <td>кирпичный. Не угловая.  Уважаемые товарищи, об...</td>\n",
       "      <td>60.50</td>\n",
       "      <td>2</td>\n",
       "    </tr>\n",
       "    <tr>\n",
       "      <th>4</th>\n",
       "      <td>2-комнатная квартира, Ладушкина - Кашгарская</td>\n",
       "      <td>43950000</td>\n",
       "      <td>/obyavleniya/prodazha-kvartiry-68m-v-almaty-30...</td>\n",
       "      <td>['Ладушкина\\xa0- Кашгарская']</td>\n",
       "      <td>2008</td>\n",
       "      <td>ЖК Зеленая Долина (Коттеджный городок), моноли...</td>\n",
       "      <td>68.00</td>\n",
       "      <td>2</td>\n",
       "    </tr>\n",
       "    <tr>\n",
       "      <th>5</th>\n",
       "      <td>2-комнатная квартира, Казахфильм мкр-н, 26</td>\n",
       "      <td>27000000</td>\n",
       "      <td>/obyavleniya/prodazha-kvartiry-45m-v-almaty-30...</td>\n",
       "      <td>['Казахфильм мкр-н', '26']</td>\n",
       "      <td>1977</td>\n",
       "      <td>панельный. Перепланировка не узаконена! Только...</td>\n",
       "      <td>45.00</td>\n",
       "      <td>2</td>\n",
       "    </tr>\n",
       "    <tr>\n",
       "      <th>...</th>\n",
       "      <td>...</td>\n",
       "      <td>...</td>\n",
       "      <td>...</td>\n",
       "      <td>...</td>\n",
       "      <td>...</td>\n",
       "      <td>...</td>\n",
       "      <td>...</td>\n",
       "      <td>...</td>\n",
       "    </tr>\n",
       "    <tr>\n",
       "      <th>1655</th>\n",
       "      <td>2-комнатная квартира, Шаляпина, 11</td>\n",
       "      <td>13000000</td>\n",
       "      <td>/obyavleniya/prodazha-kvartiry-44m-v-almaty-13...</td>\n",
       "      <td>['Шаляпина', '11']</td>\n",
       "      <td>1969</td>\n",
       "      <td>панельный. Санузел совмещенный, балкон застекл...</td>\n",
       "      <td>44.00</td>\n",
       "      <td>2</td>\n",
       "    </tr>\n",
       "    <tr>\n",
       "      <th>1656</th>\n",
       "      <td>1-комнатная квартира, Абая, 10в</td>\n",
       "      <td>9000000</td>\n",
       "      <td>/obyavleniya/prodazha-kvartiry-32m-v-almaty-13...</td>\n",
       "      <td>['Абая', '10в']</td>\n",
       "      <td>1960</td>\n",
       "      <td>панельный. Санузел совмещенный, косметический ...</td>\n",
       "      <td>32.00</td>\n",
       "      <td>1</td>\n",
       "    </tr>\n",
       "    <tr>\n",
       "      <th>1657</th>\n",
       "      <td>2-комнатная квартира, Жубанова, 18а</td>\n",
       "      <td>12000000</td>\n",
       "      <td>/obyavleniya/prodazha-kvartiry-44m-v-almaty-13...</td>\n",
       "      <td>['Жубанова', '18а']</td>\n",
       "      <td>1969</td>\n",
       "      <td>панельный. Балкон застекленный, двери металлич...</td>\n",
       "      <td>44.00</td>\n",
       "      <td>2</td>\n",
       "    </tr>\n",
       "    <tr>\n",
       "      <th>1658</th>\n",
       "      <td>2-комнатная квартира, Берегового, 8 - Койшыманова</td>\n",
       "      <td>13000000</td>\n",
       "      <td>/obyavleniya/prodazha-kvartiry-45m-v-almaty-99...</td>\n",
       "      <td>['Берегового', '8\\xa0- Койшыманова']</td>\n",
       "      <td>1969</td>\n",
       "      <td>панельный. Санузел совмещенный, балкон застекл...</td>\n",
       "      <td>45.00</td>\n",
       "      <td>2</td>\n",
       "    </tr>\n",
       "    <tr>\n",
       "      <th>1659</th>\n",
       "      <td>3-комнатная квартира, Берегового, 10 - Койчума...</td>\n",
       "      <td>15000000</td>\n",
       "      <td>/obyavleniya/prodazha-kvartiry-59m-v-almaty-10...</td>\n",
       "      <td>['Берегового', '10\\xa0- Койчуманова']</td>\n",
       "      <td>1969</td>\n",
       "      <td>панельный. Санузел совмещенный, среднее состоя...</td>\n",
       "      <td>59.00</td>\n",
       "      <td>3</td>\n",
       "    </tr>\n",
       "  </tbody>\n",
       "</table>\n",
       "<p>1594 rows × 8 columns</p>\n",
       "</div>"
      ],
      "text/plain": [
       "                                                  title     price  \\\n",
       "1          4-комнатная квартира, Сатпаева - Бухар Жырау  85000000   \n",
       "2                   2-комнатная квартира, Гагарина, 233  43000000   \n",
       "3     2-комнатная квартира, Самал-2 мкр-н, 46 - Менд...  35000000   \n",
       "4          2-комнатная квартира, Ладушкина - Кашгарская  43950000   \n",
       "5            2-комнатная квартира, Казахфильм мкр-н, 26  27000000   \n",
       "...                                                 ...       ...   \n",
       "1655                 2-комнатная квартира, Шаляпина, 11  13000000   \n",
       "1656                    1-комнатная квартира, Абая, 10в   9000000   \n",
       "1657                2-комнатная квартира, Жубанова, 18а  12000000   \n",
       "1658  2-комнатная квартира, Берегового, 8 - Койшыманова  13000000   \n",
       "1659  3-комнатная квартира, Берегового, 10 - Койчума...  15000000   \n",
       "\n",
       "                                                   href  \\\n",
       "1     /obyavleniya/prodazha-kvartiry-121m-v-almaty-3...   \n",
       "2     /obyavleniya/prodazha-kvartiry-53.41m-v-almaty...   \n",
       "3     /obyavleniya/prodazha-kvartiry-60.5m-v-almaty-...   \n",
       "4     /obyavleniya/prodazha-kvartiry-68m-v-almaty-30...   \n",
       "5     /obyavleniya/prodazha-kvartiry-45m-v-almaty-30...   \n",
       "...                                                 ...   \n",
       "1655  /obyavleniya/prodazha-kvartiry-44m-v-almaty-13...   \n",
       "1656  /obyavleniya/prodazha-kvartiry-32m-v-almaty-13...   \n",
       "1657  /obyavleniya/prodazha-kvartiry-44m-v-almaty-13...   \n",
       "1658  /obyavleniya/prodazha-kvartiry-45m-v-almaty-99...   \n",
       "1659  /obyavleniya/prodazha-kvartiry-59m-v-almaty-10...   \n",
       "\n",
       "                                       address  year  \\\n",
       "1                ['Сатпаева\\xa0- Бухар Жырау']  2006   \n",
       "2                          ['Гагарина', '233']  2021   \n",
       "3     ['Самал-2 мкр-н', '46\\xa0- Мендикулова']  1989   \n",
       "4                ['Ладушкина\\xa0- Кашгарская']  2008   \n",
       "5                   ['Казахфильм мкр-н', '26']  1977   \n",
       "...                                        ...   ...   \n",
       "1655                        ['Шаляпина', '11']  1969   \n",
       "1656                           ['Абая', '10в']  1960   \n",
       "1657                       ['Жубанова', '18а']  1969   \n",
       "1658      ['Берегового', '8\\xa0- Койшыманова']  1969   \n",
       "1659     ['Берегового', '10\\xa0- Койчуманова']  1969   \n",
       "\n",
       "                                                content    area  room  \n",
       "1     монолитный. Продается 3-комнатная квартира в Ж...  121.00     4  \n",
       "2     ЖК Terra, монолитный. Продается 2-комнатная кв...   53.41     2  \n",
       "3     кирпичный. Не угловая.  Уважаемые товарищи, об...   60.50     2  \n",
       "4     ЖК Зеленая Долина (Коттеджный городок), моноли...   68.00     2  \n",
       "5     панельный. Перепланировка не узаконена! Только...   45.00     2  \n",
       "...                                                 ...     ...   ...  \n",
       "1655  панельный. Санузел совмещенный, балкон застекл...   44.00     2  \n",
       "1656  панельный. Санузел совмещенный, косметический ...   32.00     1  \n",
       "1657  панельный. Балкон застекленный, двери металлич...   44.00     2  \n",
       "1658  панельный. Санузел совмещенный, балкон застекл...   45.00     2  \n",
       "1659  панельный. Санузел совмещенный, среднее состоя...   59.00     3  \n",
       "\n",
       "[1594 rows x 8 columns]"
      ]
     },
     "execution_count": 14,
     "metadata": {},
     "output_type": "execute_result"
    }
   ],
   "source": [
    "df"
   ]
  },
  {
   "cell_type": "code",
   "execution_count": 60,
   "metadata": {},
   "outputs": [],
   "source": [
    "from sklearn.linear_model import LinearRegression\n",
    "\n",
    "from sklearn.model_selection import train_test_split\n",
    "from sklearn.metrics import mean_squared_error, r2_score\n",
    "\n",
    "\n",
    "from sklearn.preprocessing import MinMaxScaler\n",
    "from sklearn import metrics"
   ]
  },
  {
   "cell_type": "code",
   "execution_count": 61,
   "metadata": {},
   "outputs": [],
   "source": [
    "df_train = df.iloc[:,[1,4,6,7]]"
   ]
  },
  {
   "cell_type": "code",
   "execution_count": 62,
   "metadata": {},
   "outputs": [
    {
     "data": {
      "text/html": [
       "<div>\n",
       "<style scoped>\n",
       "    .dataframe tbody tr th:only-of-type {\n",
       "        vertical-align: middle;\n",
       "    }\n",
       "\n",
       "    .dataframe tbody tr th {\n",
       "        vertical-align: top;\n",
       "    }\n",
       "\n",
       "    .dataframe thead th {\n",
       "        text-align: right;\n",
       "    }\n",
       "</style>\n",
       "<table border=\"1\" class=\"dataframe\">\n",
       "  <thead>\n",
       "    <tr style=\"text-align: right;\">\n",
       "      <th></th>\n",
       "      <th>price</th>\n",
       "      <th>year</th>\n",
       "      <th>area</th>\n",
       "      <th>room</th>\n",
       "    </tr>\n",
       "  </thead>\n",
       "  <tbody>\n",
       "    <tr>\n",
       "      <th>1</th>\n",
       "      <td>85000000</td>\n",
       "      <td>2006</td>\n",
       "      <td>121.00</td>\n",
       "      <td>4</td>\n",
       "    </tr>\n",
       "    <tr>\n",
       "      <th>2</th>\n",
       "      <td>43000000</td>\n",
       "      <td>2021</td>\n",
       "      <td>53.41</td>\n",
       "      <td>2</td>\n",
       "    </tr>\n",
       "    <tr>\n",
       "      <th>3</th>\n",
       "      <td>35000000</td>\n",
       "      <td>1989</td>\n",
       "      <td>60.50</td>\n",
       "      <td>2</td>\n",
       "    </tr>\n",
       "    <tr>\n",
       "      <th>4</th>\n",
       "      <td>43950000</td>\n",
       "      <td>2008</td>\n",
       "      <td>68.00</td>\n",
       "      <td>2</td>\n",
       "    </tr>\n",
       "    <tr>\n",
       "      <th>5</th>\n",
       "      <td>27000000</td>\n",
       "      <td>1977</td>\n",
       "      <td>45.00</td>\n",
       "      <td>2</td>\n",
       "    </tr>\n",
       "    <tr>\n",
       "      <th>...</th>\n",
       "      <td>...</td>\n",
       "      <td>...</td>\n",
       "      <td>...</td>\n",
       "      <td>...</td>\n",
       "    </tr>\n",
       "    <tr>\n",
       "      <th>1655</th>\n",
       "      <td>13000000</td>\n",
       "      <td>1969</td>\n",
       "      <td>44.00</td>\n",
       "      <td>2</td>\n",
       "    </tr>\n",
       "    <tr>\n",
       "      <th>1656</th>\n",
       "      <td>9000000</td>\n",
       "      <td>1960</td>\n",
       "      <td>32.00</td>\n",
       "      <td>1</td>\n",
       "    </tr>\n",
       "    <tr>\n",
       "      <th>1657</th>\n",
       "      <td>12000000</td>\n",
       "      <td>1969</td>\n",
       "      <td>44.00</td>\n",
       "      <td>2</td>\n",
       "    </tr>\n",
       "    <tr>\n",
       "      <th>1658</th>\n",
       "      <td>13000000</td>\n",
       "      <td>1969</td>\n",
       "      <td>45.00</td>\n",
       "      <td>2</td>\n",
       "    </tr>\n",
       "    <tr>\n",
       "      <th>1659</th>\n",
       "      <td>15000000</td>\n",
       "      <td>1969</td>\n",
       "      <td>59.00</td>\n",
       "      <td>3</td>\n",
       "    </tr>\n",
       "  </tbody>\n",
       "</table>\n",
       "<p>1594 rows × 4 columns</p>\n",
       "</div>"
      ],
      "text/plain": [
       "         price  year    area  room\n",
       "1     85000000  2006  121.00     4\n",
       "2     43000000  2021   53.41     2\n",
       "3     35000000  1989   60.50     2\n",
       "4     43950000  2008   68.00     2\n",
       "5     27000000  1977   45.00     2\n",
       "...        ...   ...     ...   ...\n",
       "1655  13000000  1969   44.00     2\n",
       "1656   9000000  1960   32.00     1\n",
       "1657  12000000  1969   44.00     2\n",
       "1658  13000000  1969   45.00     2\n",
       "1659  15000000  1969   59.00     3\n",
       "\n",
       "[1594 rows x 4 columns]"
      ]
     },
     "execution_count": 62,
     "metadata": {},
     "output_type": "execute_result"
    }
   ],
   "source": [
    "df_train"
   ]
  },
  {
   "cell_type": "code",
   "execution_count": 63,
   "metadata": {},
   "outputs": [],
   "source": [
    "scaler = MinMaxScaler()\n",
    "scaler.fit(df_train) \n",
    "scaled_df = scaler.transform(df_train)"
   ]
  },
  {
   "cell_type": "code",
   "execution_count": 64,
   "metadata": {},
   "outputs": [
    {
     "data": {
      "image/png": "[encoded data removed]",
      "text/plain": [
       "<Figure size 432x288 with 1 Axes>"
      ]
     },
     "metadata": {
      "needs_background": "light"
     },
     "output_type": "display_data"
    }
   ],
   "source": [
    "plt.scatter(df_train['price'], df_train['area']);"
   ]
  },
  {
   "cell_type": "markdown",
   "metadata": {},
   "source": [
    "# Линейная регрессия"
   ]
  },
  {
   "cell_type": "code",
   "execution_count": 65,
   "metadata": {},
   "outputs": [],
   "source": [
    "x = df_train.iloc[:, [2]].values\n",
    "y = df_train.iloc[:,[0]].values\n",
    "\n",
    "#x = (x - x.mean()) / x.std()\n",
    "#x = np.c_[np.ones(x.shape[0]), x]"
   ]
  },
  {
   "cell_type": "code",
   "execution_count": 66,
   "metadata": {},
   "outputs": [
    {
     "data": {
      "text/plain": [
       "array([[121.  ],\n",
       "       [ 53.41],\n",
       "       [ 60.5 ],\n",
       "       ...,\n",
       "       [ 44.  ],\n",
       "       [ 45.  ],\n",
       "       [ 59.  ]])"
      ]
     },
     "execution_count": 66,
     "metadata": {},
     "output_type": "execute_result"
    }
   ],
   "source": [
    "x"
   ]
  },
  {
   "cell_type": "code",
   "execution_count": 67,
   "metadata": {},
   "outputs": [],
   "source": [
    "X_train, X_test, y_train, y_test = train_test_split(x, y, test_size=0.2, random_state=0)"
   ]
  },
  {
   "cell_type": "code",
   "execution_count": 68,
   "metadata": {},
   "outputs": [
    {
     "data": {
      "text/plain": [
       "((1275, 1), (1275, 1))"
      ]
     },
     "execution_count": 68,
     "metadata": {},
     "output_type": "execute_result"
    }
   ],
   "source": [
    "X_train.shape, y_train.shape"
   ]
  },
  {
   "cell_type": "code",
   "execution_count": 69,
   "metadata": {},
   "outputs": [],
   "source": [
    "regressor = LinearRegression()\n",
    "regressor.fit(X_train, y_train)\n",
    "\n",
    "score = regressor.score(X_train, y_train)\n",
    "y_pred = regressor.predict(X_test)"
   ]
  },
  {
   "cell_type": "code",
   "execution_count": 70,
   "metadata": {},
   "outputs": [
    {
     "name": "stdout",
     "output_type": "stream",
     "text": [
      "Coefficients: [[696932.53766412]]\n",
      "Intercept: [-6962966.79870264]\n",
      "Score: 0.46267289565461167\n"
     ]
    }
   ],
   "source": [
    "print('Coefficients:', regressor.coef_)\n",
    "print('Intercept:', regressor.intercept_)\n",
    "print('Score:', score)"
   ]
  },
  {
   "cell_type": "code",
   "execution_count": 71,
   "metadata": {},
   "outputs": [
    {
     "name": "stdout",
     "output_type": "stream",
     "text": [
      "Mean Squared Error: 218005135413126.78\n"
     ]
    }
   ],
   "source": [
    "print('Mean Squared Error:', metrics.mean_squared_error(y_test, y_pred))  "
   ]
  },
  {
   "cell_type": "code",
   "execution_count": 80,
   "metadata": {},
   "outputs": [
    {
     "data": {
      "image/png": "[encoded data removed]",
      "text/plain": [
       "<Figure size 432x288 with 1 Axes>"
      ]
     },
     "metadata": {
      "needs_background": "light"
     },
     "output_type": "display_data"
    }
   ],
   "source": [
    "plt.scatter(X_test, y_test,  color='gray')\n",
    "plt.plot(X_test, y_pred, color='red', linewidth=2)\n",
    "plt.show()"
   ]
  },
  {
   "cell_type": "code",
   "execution_count": 29,
   "metadata": {},
   "outputs": [
    {
     "data": {
      "text/html": [
       "<div>\n",
       "<style scoped>\n",
       "    .dataframe tbody tr th:only-of-type {\n",
       "        vertical-align: middle;\n",
       "    }\n",
       "\n",
       "    .dataframe tbody tr th {\n",
       "        vertical-align: top;\n",
       "    }\n",
       "\n",
       "    .dataframe thead th {\n",
       "        text-align: right;\n",
       "    }\n",
       "</style>\n",
       "<table border=\"1\" class=\"dataframe\">\n",
       "  <thead>\n",
       "    <tr style=\"text-align: right;\">\n",
       "      <th></th>\n",
       "      <th>price</th>\n",
       "      <th>year</th>\n",
       "      <th>area</th>\n",
       "      <th>room</th>\n",
       "    </tr>\n",
       "  </thead>\n",
       "  <tbody>\n",
       "    <tr>\n",
       "      <th>1</th>\n",
       "      <td>85000000</td>\n",
       "      <td>2006</td>\n",
       "      <td>121.00</td>\n",
       "      <td>4</td>\n",
       "    </tr>\n",
       "    <tr>\n",
       "      <th>2</th>\n",
       "      <td>43000000</td>\n",
       "      <td>2021</td>\n",
       "      <td>53.41</td>\n",
       "      <td>2</td>\n",
       "    </tr>\n",
       "    <tr>\n",
       "      <th>3</th>\n",
       "      <td>35000000</td>\n",
       "      <td>1989</td>\n",
       "      <td>60.50</td>\n",
       "      <td>2</td>\n",
       "    </tr>\n",
       "    <tr>\n",
       "      <th>4</th>\n",
       "      <td>43950000</td>\n",
       "      <td>2008</td>\n",
       "      <td>68.00</td>\n",
       "      <td>2</td>\n",
       "    </tr>\n",
       "    <tr>\n",
       "      <th>5</th>\n",
       "      <td>27000000</td>\n",
       "      <td>1977</td>\n",
       "      <td>45.00</td>\n",
       "      <td>2</td>\n",
       "    </tr>\n",
       "    <tr>\n",
       "      <th>...</th>\n",
       "      <td>...</td>\n",
       "      <td>...</td>\n",
       "      <td>...</td>\n",
       "      <td>...</td>\n",
       "    </tr>\n",
       "    <tr>\n",
       "      <th>1655</th>\n",
       "      <td>13000000</td>\n",
       "      <td>1969</td>\n",
       "      <td>44.00</td>\n",
       "      <td>2</td>\n",
       "    </tr>\n",
       "    <tr>\n",
       "      <th>1656</th>\n",
       "      <td>9000000</td>\n",
       "      <td>1960</td>\n",
       "      <td>32.00</td>\n",
       "      <td>1</td>\n",
       "    </tr>\n",
       "    <tr>\n",
       "      <th>1657</th>\n",
       "      <td>12000000</td>\n",
       "      <td>1969</td>\n",
       "      <td>44.00</td>\n",
       "      <td>2</td>\n",
       "    </tr>\n",
       "    <tr>\n",
       "      <th>1658</th>\n",
       "      <td>13000000</td>\n",
       "      <td>1969</td>\n",
       "      <td>45.00</td>\n",
       "      <td>2</td>\n",
       "    </tr>\n",
       "    <tr>\n",
       "      <th>1659</th>\n",
       "      <td>15000000</td>\n",
       "      <td>1969</td>\n",
       "      <td>59.00</td>\n",
       "      <td>3</td>\n",
       "    </tr>\n",
       "  </tbody>\n",
       "</table>\n",
       "<p>1594 rows × 4 columns</p>\n",
       "</div>"
      ],
      "text/plain": [
       "         price  year    area  room\n",
       "1     85000000  2006  121.00     4\n",
       "2     43000000  2021   53.41     2\n",
       "3     35000000  1989   60.50     2\n",
       "4     43950000  2008   68.00     2\n",
       "5     27000000  1977   45.00     2\n",
       "...        ...   ...     ...   ...\n",
       "1655  13000000  1969   44.00     2\n",
       "1656   9000000  1960   32.00     1\n",
       "1657  12000000  1969   44.00     2\n",
       "1658  13000000  1969   45.00     2\n",
       "1659  15000000  1969   59.00     3\n",
       "\n",
       "[1594 rows x 4 columns]"
      ]
     },
     "execution_count": 29,
     "metadata": {},
     "output_type": "execute_result"
    }
   ],
   "source": [
    "df_train"
   ]
  },
  {
   "cell_type": "markdown",
   "metadata": {},
   "source": [
    "#  Множественная линейная регрессия"
   ]
  },
  {
   "cell_type": "code",
   "execution_count": 30,
   "metadata": {},
   "outputs": [],
   "source": [
    "x = df_train.drop('price', axis=1)\n",
    "y = df_train.iloc[:,[0]].values\n",
    "\n",
    "#x = (x - x.mean()) / x.std()\n",
    "#x = np.c_[np.ones(x.shape[0]), x]"
   ]
  },
  {
   "cell_type": "code",
   "execution_count": 32,
   "metadata": {},
   "outputs": [],
   "source": [
    "X_train, X_test, y_train, y_test = train_test_split(x, y, test_size=0.2, random_state=0)"
   ]
  },
  {
   "cell_type": "code",
   "execution_count": 37,
   "metadata": {},
   "outputs": [],
   "source": [
    "model = LinearRegression()\n",
    "model.fit(X_train, y_train)\n",
    "\n",
    "score_train = model.score(X_train, y_train)\n",
    "score_test = model.score(X_test, y_test)\n",
    "y_pred = model.predict(X_test)"
   ]
  },
  {
   "cell_type": "code",
   "execution_count": 51,
   "metadata": {},
   "outputs": [
    {
     "name": "stdout",
     "output_type": "stream",
     "text": [
      "Coefficients: [[  43706.52672167  696383.79828303 -453372.35421988]]\n",
      "Intercept: [-92995245.59728572]\n",
      "Score: 0.46332102546163867 0.7034537601005333\n"
     ]
    }
   ],
   "source": [
    "print('Coefficients:', model.coef_)\n",
    "print('Intercept:', model.intercept_)\n",
    "print('Score:', score_train, score_test)\n",
    "\n"
   ]
  },
  {
   "cell_type": "code",
   "execution_count": 35,
   "metadata": {},
   "outputs": [
    {
     "name": "stdout",
     "output_type": "stream",
     "text": [
      "Mean Absolute Error: 9208389.299443513\n",
      "Mean Squared Error: 215561330906592.2\n",
      "Root Mean Squared Error: 14682007.046265582\n"
     ]
    }
   ],
   "source": [
    "print('Mean Absolute Error:', metrics.mean_absolute_error(y_test, y_pred))  \n",
    "print('Mean Squared Error:', metrics.mean_squared_error(y_test, y_pred))  \n",
    "print('Root Mean Squared Error:', np.sqrt(metrics.mean_squared_error(y_test, y_pred)))"
   ]
  },
  {
   "cell_type": "markdown",
   "metadata": {},
   "source": [
    "# Логарифмическое преобразование"
   ]
  },
  {
   "cell_type": "code",
   "execution_count": 77,
   "metadata": {},
   "outputs": [
    {
     "data": {
      "text/plain": [
       "1    18.258162\n",
       "2    17.576711\n",
       "3    17.370859\n",
       "4    17.598563\n",
       "5    17.111347\n",
       "Name: price, dtype: float64"
      ]
     },
     "execution_count": 77,
     "metadata": {},
     "output_type": "execute_result"
    }
   ],
   "source": [
    "y_log = np.log(df_train['price'])\n",
    "y_log.head()"
   ]
  },
  {
   "cell_type": "code",
   "execution_count": 73,
   "metadata": {},
   "outputs": [
    {
     "data": {
      "text/plain": [
       "0.7040025292196461"
      ]
     },
     "execution_count": 73,
     "metadata": {},
     "output_type": "execute_result"
    }
   ],
   "source": [
    "y_log.skew()"
   ]
  },
  {
   "cell_type": "code",
   "execution_count": 74,
   "metadata": {},
   "outputs": [
    {
     "data": {
      "image/png": "[encoded data removed]",
      "text/plain": [
       "<Figure size 432x288 with 1 Axes>"
      ]
     },
     "metadata": {
      "needs_background": "light"
     },
     "output_type": "display_data"
    }
   ],
   "source": [
    "sns.distplot(y_log)\n",
    "plt.title(f'log price with skew {y_log.skew()}')\n",
    "plt.show()"
   ]
  },
  {
   "cell_type": "code",
   "execution_count": 75,
   "metadata": {},
   "outputs": [
    {
     "name": "stdout",
     "output_type": "stream",
     "text": [
      "Coefficients: [0.00318972 0.01006778 0.08646889]\n",
      "Intercept: 10.116877461803364\n",
      "Score: 0.7295807307780267 0.7336255258055691\n"
     ]
    }
   ],
   "source": [
    "x = df_train.drop('price', axis=1)\n",
    "y = np.log(df_train['price'])\n",
    "\n",
    "X_train, X_test, y_train, y_test = train_test_split(x, y, test_size=0.2, random_state=0)\n",
    "\n",
    "model = LinearRegression()\n",
    "model.fit(X_train, y_train)\n",
    "\n",
    "score_train = model.score(X_train, y_train)\n",
    "score_test = model.score(X_test, y_test)\n",
    "y_pred = model.predict(X_test)\n",
    "\n",
    "print('Coefficients:', model.coef_)\n",
    "print('Intercept:', model.intercept_)\n",
    "print('Score:', score_train, score_test)"
   ]
  },
  {
   "cell_type": "code",
   "execution_count": 79,
   "metadata": {},
   "outputs": [
    {
     "name": "stdout",
     "output_type": "stream",
     "text": [
      "Mean Absolute Error: 0.1933696087552534\n",
      "Mean Squared Error: 0.06898808928231868\n",
      "Root Mean Squared Error: 0.2626558380891593\n"
     ]
    }
   ],
   "source": [
    "print('Mean Absolute Error:', metrics.mean_absolute_error(y_test, y_pred))  \n",
    "print('Mean Squared Error:', metrics.mean_squared_error(y_test, y_pred))  \n",
    "print('Root Mean Squared Error:', np.sqrt(metrics.mean_squared_error(y_test, y_pred)))"
   ]
  }
 ],
 "metadata": {
  "kernelspec": {
   "display_name": "Python 3",
   "language": "python",
   "name": "python3"
  },
  "language_info": {
   "codemirror_mode": {
    "name": "ipython",
    "version": 3
   },
   "file_extension": ".py",
   "mimetype": "text/x-python",
   "name": "python",
   "nbconvert_exporter": "python",
   "pygments_lexer": "ipython3",
   "version": "3.8.5"
  }
 },
 "nbformat": 4,
 "nbformat_minor": 4
}
